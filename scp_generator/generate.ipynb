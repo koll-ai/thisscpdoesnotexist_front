{
 "cells": [
  {
   "cell_type": "code",
   "execution_count": 49,
   "metadata": {
    "collapsed": true
   },
   "outputs": [],
   "source": [
    "import requests\n",
    "import scp_gen\n",
    "import openai"
   ]
  },
  {
   "cell_type": "code",
   "execution_count": 29,
   "outputs": [],
   "source": [
    "url_poll = \"https://thisscpdoesnotexist.pythonanywhere.com/get_poll/\"\n",
    "r = requests.get(url_poll)"
   ],
   "metadata": {
    "collapsed": false,
    "pycharm": {
     "name": "#%%\n"
    }
   }
  },
  {
   "cell_type": "code",
   "execution_count": 20,
   "outputs": [],
   "source": [
    "polls = r.json()['poll']"
   ],
   "metadata": {
    "collapsed": false,
    "pycharm": {
     "name": "#%%\n"
    }
   }
  },
  {
   "cell_type": "code",
   "execution_count": 21,
   "outputs": [],
   "source": [
    "newlist = list(reversed(sorted(polls, key=lambda k: k['votes'])))"
   ],
   "metadata": {
    "collapsed": false,
    "pycharm": {
     "name": "#%%\n"
    }
   }
  },
  {
   "cell_type": "code",
   "execution_count": 45,
   "outputs": [],
   "source": [
    "object_classes = ['Safe', 'Euclid', 'Keter', 'Thaumiel']\n",
    "class_to_num = {c : i for i,c in enumerate(object_classes)}\n",
    "win = newlist[0]"
   ],
   "metadata": {
    "collapsed": false,
    "pycharm": {
     "name": "#%%\n"
    }
   }
  },
  {
   "cell_type": "code",
   "execution_count": 65,
   "outputs": [],
   "source": [
    "with open(\"./openai.key\", \"r\") as f:\n",
    "    openai.api_key = f.readline()\n",
    "\n",
    "raw_prompt = win['prompt']\n",
    "prompt = raw_prompt[raw_prompt.index('GPT') + 7:]\n",
    "scp_num = raw_prompt.split(' ')[1].split('-')[0]\n",
    "scp = scp_gen.generate_scp(scp_num, prompt, class_to_num[win['scpClass']])\n"
   ],
   "metadata": {
    "collapsed": false,
    "pycharm": {
     "name": "#%%\n"
    }
   }
  },
  {
   "cell_type": "code",
   "execution_count": 66,
   "outputs": [],
   "source": [
    "filename = 'SCP-' + scp_num + '-GPT.txt'\n",
    "with open(\"../raw_scp/SCP-\" + scp_num + '-GPT.txt', 'w+') as f:\n",
    "    f.write(scp)"
   ],
   "metadata": {
    "collapsed": false,
    "pycharm": {
     "name": "#%%\n"
    }
   }
  },
  {
   "cell_type": "code",
   "execution_count": 69,
   "outputs": [],
   "source": [
    "import csv\n",
    "\n",
    "with open(\"../raw_scp/scp_list.csv\", 'a') as f:\n",
    "    writer = csv.writer(f)\n",
    "    writer.writerow([raw_prompt, win['scpClass'], 'SCP-' + scp_num + '-GPT.txt'])"
   ],
   "metadata": {
    "collapsed": false,
    "pycharm": {
     "name": "#%%\n"
    }
   }
  }
 ],
 "metadata": {
  "kernelspec": {
   "display_name": "Python 3",
   "language": "python",
   "name": "python3"
  },
  "language_info": {
   "codemirror_mode": {
    "name": "ipython",
    "version": 2
   },
   "file_extension": ".py",
   "mimetype": "text/x-python",
   "name": "python",
   "nbconvert_exporter": "python",
   "pygments_lexer": "ipython2",
   "version": "2.7.6"
  }
 },
 "nbformat": 4,
 "nbformat_minor": 0
}